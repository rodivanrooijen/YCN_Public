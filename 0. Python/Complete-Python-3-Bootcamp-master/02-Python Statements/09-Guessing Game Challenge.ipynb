{
 "cells": [
  {
   "cell_type": "markdown",
   "metadata": {},
   "source": [
    "___\n",
    "\n",
    "<a href='https://www.udemy.com/user/joseportilla/'><img src='../Pierian_Data_Logo.png'/></a>\n",
    "___\n",
    "<center><em>Content Copyright by Pierian Data</em></center>"
   ]
  },
  {
   "cell_type": "markdown",
   "metadata": {},
   "source": [
    "# Guessing Game Challenge\n",
    "\n",
    "Let's use `while` loops to create a guessing game.\n",
    "\n",
    "The Challenge:\n",
    "\n",
    "Write a program that picks a random integer from 1 to 100, and has players guess the number. The rules are:\n",
    "\n",
    "1. If a player's guess is less than 1 or greater than 100, say \"OUT OF BOUNDS\"\n",
    "2. On a player's first turn, if their guess is\n",
    " * within 10 of the number, return \"WARM!\"\n",
    " * further than 10 away from the number, return \"COLD!\"\n",
    "3. On all subsequent turns, if a guess is \n",
    " * closer to the number than the previous guess return \"WARMER!\"\n",
    " * farther from the number than the previous guess, return \"COLDER!\"\n",
    "4. When the player's guess equals the number, tell them they've guessed correctly *and* how many guesses it took!\n",
    "\n",
    "You can try this from scratch, or follow the steps outlined below. A separate Solution notebook has been provided. Good luck!\n"
   ]
  },
  {
   "cell_type": "markdown",
   "metadata": {},
   "source": [
    "#### First, pick a random integer from 1 to 100 using the random module and assign it to a variable\n",
    "\n",
    "Note: `random.randint(a,b)` returns a random integer in range `[a, b]`, including both end points."
   ]
  },
  {
   "cell_type": "code",
   "execution_count": 7,
   "metadata": {},
   "outputs": [
    {
     "data": {
      "text/plain": [
       "93"
      ]
     },
     "execution_count": 7,
     "metadata": {},
     "output_type": "execute_result"
    }
   ],
   "source": [
    "import random\n",
    "\n",
    "het_getal = random.randint(1,100)\n",
    "het_getal"
   ]
  },
  {
   "cell_type": "markdown",
   "metadata": {},
   "source": [
    "#### Next, print an introduction to the game and explain the rules"
   ]
  },
  {
   "cell_type": "code",
   "execution_count": 3,
   "metadata": {},
   "outputs": [
    {
     "name": "stdout",
     "output_type": "stream",
     "text": [
      "Raad het getal tussen 0 en 100\n",
      "Je moet het getal gokken dat tussen de 0 en de 100 ligt in zo min mogelijk aantal gokken\n",
      "Na de eerste gok krijg je te horen of je warm (maximaal 10 van het te raden getal)zit\n",
      "Bij koud zit je dus meer dan 10 van het te raden getal\n",
      "Vanaf de tweede beurt krijg je te horen of je warmer of kouder zit.\n"
     ]
    }
   ],
   "source": [
    "print(\"Raad het getal tussen 0 en 100\")\n",
    "print(\"Je moet het getal gokken dat tussen de 0 en de 100 ligt in zo min mogelijk aantal gokken\")\n",
    "print(\"Na de eerste gok krijg je te horen of je warm (maximaal 10 van het te raden getal)zit\")\n",
    "print(\"Bij koud zit je dus meer dan 10 van het te raden getal\")\n",
    "print(\"Vanaf de tweede beurt krijg je te horen of je warmer of kouder zit.\")"
   ]
  },
  {
   "cell_type": "markdown",
   "metadata": {},
   "source": [
    "#### Create a list to store guesses\n",
    "\n",
    "Hint: zero is a good placeholder value. It's useful because it evaluates to \"False\""
   ]
  },
  {
   "cell_type": "code",
   "execution_count": 32,
   "metadata": {},
   "outputs": [],
   "source": [
    "gokken = [0]"
   ]
  },
  {
   "cell_type": "markdown",
   "metadata": {},
   "source": [
    "#### Write a `while` loop that asks for a valid guess. Test it a few times to make sure it works."
   ]
  },
  {
   "cell_type": "code",
   "execution_count": 6,
   "metadata": {},
   "outputs": [
    {
     "name": "stdout",
     "output_type": "stream",
     "text": [
      "Ik heb een getal in gedachten tussen de 1 en 100. Welk getal gok je?0\n",
      "Dit getal is niet geldig. Je moet een getal invullen tussen de 1 en de 100\n",
      "Ik heb een getal in gedachten tussen de 1 en 100. Welk getal gok je?0\n",
      "Dit getal is niet geldig. Je moet een getal invullen tussen de 1 en de 100\n",
      "Ik heb een getal in gedachten tussen de 1 en 100. Welk getal gok je?101\n",
      "Dit getal is niet geldig. Je moet een getal invullen tussen de 1 en de 100\n",
      "Ik heb een getal in gedachten tussen de 1 en 100. Welk getal gok je?5\n"
     ]
    }
   ],
   "source": [
    "while True:\n",
    "    \n",
    "    gok = int(input(\"Ik heb een getal in gedachten tussen de 1 en 100. Welk getal gok je?\"))\n",
    "    \n",
    "    if gok <1 or gok >= 100:\n",
    "        print(\"Dit getal is niet geldig. Je moet een getal invullen tussen de 1 en de 100\")\n",
    "        continue\n",
    "    \n",
    "    \n",
    "    break"
   ]
  },
  {
   "cell_type": "markdown",
   "metadata": {},
   "source": [
    "#### Write a `while` loop that compares the player's guess to our number. If the player guesses correctly, break from the loop. Otherwise, tell the player if they're warmer or colder, and continue asking for guesses.\n",
    "\n",
    "Some hints:\n",
    "* it may help to sketch out all possible combinations on paper first!\n",
    "* you can use the `abs()` function to find the positive difference between two numbers\n",
    "* if you append all new guesses to the list, then the previous guess is given as `guesses[-2]`"
   ]
  },
  {
   "cell_type": "code",
   "execution_count": 34,
   "metadata": {},
   "outputs": [
    {
     "name": "stdout",
     "output_type": "stream",
     "text": [
      "Ik heb een getal in gedachten tussen de 1 en 100. Welk getal gok je?50\n",
      "Helaas je antwoord is niet goed\n",
      "Je zit koud\n",
      "Probeer opnieuw!\n",
      "Je hebt de volgende gokken gedaan:\n",
      "[50]\n",
      "Ik heb een getal in gedachten tussen de 1 en 100. Welk getal gok je?60\n",
      "Helaas je antwoord is niet goed\n",
      "KOUDER!\n",
      "Probeer opnieuw!\n",
      "Je hebt de volgende gokken gedaan:\n",
      "[50, 60]\n",
      "Ik heb een getal in gedachten tussen de 1 en 100. Welk getal gok je?40\n",
      "Helaas je antwoord is niet goed\n",
      "WARMER!\n",
      "Probeer opnieuw!\n",
      "Je hebt de volgende gokken gedaan:\n",
      "[50, 60, 40]\n",
      "Ik heb een getal in gedachten tussen de 1 en 100. Welk getal gok je?30\n",
      "Helaas je antwoord is niet goed\n",
      "WARMER!\n",
      "Probeer opnieuw!\n",
      "Je hebt de volgende gokken gedaan:\n",
      "[50, 60, 40, 30]\n",
      "Ik heb een getal in gedachten tussen de 1 en 100. Welk getal gok je?20\n",
      "Helaas je antwoord is niet goed\n",
      "WARMER!\n",
      "Probeer opnieuw!\n",
      "Je hebt de volgende gokken gedaan:\n",
      "[50, 60, 40, 30, 20]\n",
      "Ik heb een getal in gedachten tussen de 1 en 100. Welk getal gok je?15\n",
      "Helaas je antwoord is niet goed\n",
      "WARMER!\n",
      "Probeer opnieuw!\n",
      "Je hebt de volgende gokken gedaan:\n",
      "[50, 60, 40, 30, 20, 15]\n",
      "Ik heb een getal in gedachten tussen de 1 en 100. Welk getal gok je?5\n",
      "Helaas je antwoord is niet goed\n",
      "KOUDER!\n",
      "Probeer opnieuw!\n",
      "Je hebt de volgende gokken gedaan:\n",
      "[50, 60, 40, 30, 20, 15, 5]\n",
      "Ik heb een getal in gedachten tussen de 1 en 100. Welk getal gok je?8\n",
      "Helaas je antwoord is niet goed\n",
      "WARMER!\n",
      "Probeer opnieuw!\n",
      "Je hebt de volgende gokken gedaan:\n",
      "[50, 60, 40, 30, 20, 15, 5, 8]\n",
      "Ik heb een getal in gedachten tussen de 1 en 100. Welk getal gok je?9\n",
      "Helaas je antwoord is niet goed\n",
      "WARMER!\n",
      "Probeer opnieuw!\n",
      "Je hebt de volgende gokken gedaan:\n",
      "[50, 60, 40, 30, 20, 15, 5, 8, 9]\n",
      "Ik heb een getal in gedachten tussen de 1 en 100. Welk getal gok je?10\n",
      "Helaas je antwoord is niet goed\n",
      "WARMER!\n",
      "Probeer opnieuw!\n",
      "Je hebt de volgende gokken gedaan:\n",
      "[50, 60, 40, 30, 20, 15, 5, 8, 9, 10]\n",
      "Ik heb een getal in gedachten tussen de 1 en 100. Welk getal gok je?11\n",
      "Helaas je antwoord is niet goed\n",
      "WARMER!\n",
      "Probeer opnieuw!\n",
      "Je hebt de volgende gokken gedaan:\n",
      "[50, 60, 40, 30, 20, 15, 5, 8, 9, 10, 11]\n",
      "Ik heb een getal in gedachten tussen de 1 en 100. Welk getal gok je?12\n",
      "Helaas je antwoord is niet goed\n",
      "WARMER!\n",
      "Probeer opnieuw!\n",
      "Je hebt de volgende gokken gedaan:\n",
      "[50, 60, 40, 30, 20, 15, 5, 8, 9, 10, 11, 12]\n",
      "Ik heb een getal in gedachten tussen de 1 en 100. Welk getal gok je?13\n",
      "Helaas je antwoord is niet goed\n",
      "WARMER!\n",
      "Probeer opnieuw!\n",
      "Je hebt de volgende gokken gedaan:\n",
      "[50, 60, 40, 30, 20, 15, 5, 8, 9, 10, 11, 12, 13]\n",
      "Ik heb een getal in gedachten tussen de 1 en 100. Welk getal gok je?15\n",
      "Helaas je antwoord is niet goed\n",
      "WARMER!\n",
      "Probeer opnieuw!\n",
      "Je hebt de volgende gokken gedaan:\n",
      "[50, 60, 40, 30, 20, 15, 5, 8, 9, 10, 11, 12, 13, 15]\n",
      "Ik heb een getal in gedachten tussen de 1 en 100. Welk getal gok je?16\n",
      "JE HEBT HET GETAL GOED GERADEN!\n",
      "Je hebt er 15 pogingen  over gedaan\n"
     ]
    }
   ],
   "source": [
    "het_getal = random.randint(1,100)\n",
    "gokken = [0]\n",
    "\n",
    "while True:\n",
    "    gok = int(input(\"Ik heb een getal in gedachten tussen de 1 en 100. Welk getal gok je?\"))\n",
    "    \n",
    "    if gok <1 or gok >= 100:\n",
    "        print(\"Dit getal is niet geldig. Je moet een getal invullen tussen de 1 en de 100\")\n",
    "        continue\n",
    "    \n",
    "    elif gok == het_getal:\n",
    "        print(\"JE HEBT HET GETAL GOED GERADEN!\")\n",
    "        print(f\"Je hebt er {len(gokken)} pogingen  over gedaan\")\n",
    "        break\n",
    "    \n",
    "    else:\n",
    "        gokken.append(gok)\n",
    "        print(\"Helaas je antwoord is niet goed\")\n",
    "        \n",
    "        if len(gokken) == 2 and abs(het_getal-gok)<= 10:\n",
    "            print(\"Je zit wel warm\")\n",
    "            print(\"Probeer opnieuw!\")\n",
    "        elif len(gokken) == 2 and abs(het_getal-gok)> 10:\n",
    "            print(\"Je zit koud\")\n",
    "            print(\"Probeer opnieuw!\")\n",
    "        elif len(gokken) > 2 and abs(het_getal-gok) < abs(het_getal-gokken[-2]):\n",
    "            print(\"WARMER!\")\n",
    "            print(\"Probeer opnieuw!\")\n",
    "        \n",
    "        else:\n",
    "            print(\"KOUDER!\")\n",
    "            print(\"Probeer opnieuw!\")\n",
    "        print(\"Je hebt de volgende gokken gedaan:\")\n",
    "        print(gokken[1:])\n",
    "        continue"
   ]
  },
  {
   "cell_type": "markdown",
   "metadata": {},
   "source": [
    "That's it! You've just programmed your first game!\n",
    "\n",
    "In the next section we'll learn how to turn some of these repetitive actions into *functions* that can be called whenever we need them."
   ]
  },
  {
   "cell_type": "markdown",
   "metadata": {},
   "source": [
    "### Good Job!"
   ]
  }
 ],
 "metadata": {
  "kernelspec": {
   "display_name": "Python 3 (ipykernel)",
   "language": "python",
   "name": "python3"
  },
  "language_info": {
   "codemirror_mode": {
    "name": "ipython",
    "version": 3
   },
   "file_extension": ".py",
   "mimetype": "text/x-python",
   "name": "python",
   "nbconvert_exporter": "python",
   "pygments_lexer": "ipython3",
   "version": "3.11.5"
  }
 },
 "nbformat": 4,
 "nbformat_minor": 2
}
